{
 "cells": [
  {
   "cell_type": "code",
   "execution_count": null,
   "id": "062e757e",
   "metadata": {},
   "outputs": [],
   "source": [
    "# Write a Python Script that captures images from your webcam video stream\n",
    "#  Extracts all Faces from the image frame (using haarcascades)\n",
    "# Stores the Face information into numpy arrays\n",
    "# 1. Read and show video, stream, capture images\n",
    "#2. Detect Faces and show bounding box\n",
    "# 3. Flatten the largest face image and save in a numpy dray 8 # \n",
    "# 4. Repeat the above for multiple people to generate training data"
   ]
  },
  {
   "cell_type": "code",
   "execution_count": 1,
   "id": "6be7724d",
   "metadata": {},
   "outputs": [],
   "source": [
    "import cv2\n",
    "import numpy as np"
   ]
  },
  {
   "cell_type": "code",
   "execution_count": 19,
   "id": "b2ea2eba",
   "metadata": {},
   "outputs": [
    {
     "name": "stdout",
     "output_type": "stream",
     "text": [
      "Enter the name og the person : vandana\n",
      "1\n",
      "2\n",
      "3\n",
      "4\n",
      "5\n",
      "6\n",
      "7\n",
      "8\n",
      "9\n",
      "10\n",
      "11\n",
      "12\n",
      "(12, 30000)\n",
      "Data saved at : ./empty/vandana.npy\n"
     ]
    }
   ],
   "source": [
    "cap=cv2.VideoCapture(0)\n",
    "face_cascade=cv2.CascadeClassifier(\"haarcascade_frontalface_default.xml\")\n",
    "skip=0\n",
    "face_data=[]\n",
    "dataset_path='./empty/'\n",
    "\n",
    "file_name=input(\"Enter the name og the person : \")\n",
    "\n",
    "while True:\n",
    "    ret,frame = cap.read()\n",
    "\n",
    "    if ret==False:\n",
    "        continue\n",
    "        \n",
    "    gray_frame = cv2.cvtColor(frame,cv2.COLOR_BGR2GRAY)    \n",
    "    faces = face_cascade.detectMultiScale(frame,1.3,5) \n",
    "    faces=sorted(faces,key=lambda f:f[2]*f[3])    \n",
    "    \n",
    "    #pick the last face because it will be the largest\n",
    "    for face in faces[-1:]:\n",
    "        x,y,w,h=face\n",
    "        cv2.rectangle(frame,(x,y),(x+w,y+h),(0,255,0),2)\n",
    "        \n",
    "        # extract (crop out) the region of intrest\n",
    "        offset=10\n",
    "        face_section = frame[y-offset:y+h+offset,x-offset:x+w+offset]\n",
    "        face_section=cv2.resize(face_section,(100,100))\n",
    "        skip+=1\n",
    "        cv2.imshow(\"Face section\",face_section)\n",
    "        if skip%10==0:\n",
    "            face_data.append(face_section)\n",
    "            print(len(face_data))\n",
    "            \n",
    "            \n",
    "        \n",
    "    cv2.imshow(\"web cam\",frame)\n",
    "    \n",
    "    key=cv2.waitKey(1) & 0xFF\n",
    "    if key==ord('q'):\n",
    "        break\n",
    "\n",
    "#convert face list array to a numpy array\n",
    "face_data = np.asarray(face_data)\n",
    "face_data= face_data.reshape((face_data.shape[0],-1))\n",
    "print(face_data.shape)\n",
    "\n",
    "\n",
    "#save this data in file system\n",
    "np.save(dataset_path+file_name+'.npy',face_data)\n",
    "print(\"Data saved at : \"+dataset_path+file_name+'.npy')\n",
    "\n",
    "\n",
    "\n",
    "cap.release()\n",
    "cv2.destroyAllWindows()"
   ]
  },
  {
   "cell_type": "code",
   "execution_count": 18,
   "id": "94abce5a",
   "metadata": {},
   "outputs": [
    {
     "data": {
      "text/plain": [
       "array([[122, 120, 103, ..., 124, 123, 104],\n",
       "       [121, 121,  97, ..., 136, 133, 126],\n",
       "       [123, 123,  99, ..., 131, 124, 131],\n",
       "       ...,\n",
       "       [122, 123, 102, ..., 129, 124, 127],\n",
       "       [124, 123, 103, ..., 120, 111, 120],\n",
       "       [123, 123, 105, ..., 116, 111, 117]], dtype=uint8)"
      ]
     },
     "execution_count": 18,
     "metadata": {},
     "output_type": "execute_result"
    }
   ],
   "source": [
    "face_data"
   ]
  },
  {
   "cell_type": "code",
   "execution_count": null,
   "id": "5c7a7350",
   "metadata": {},
   "outputs": [],
   "source": []
  }
 ],
 "metadata": {
  "kernelspec": {
   "display_name": "Python 3 (ipykernel)",
   "language": "python",
   "name": "python3"
  },
  "language_info": {
   "codemirror_mode": {
    "name": "ipython",
    "version": 3
   },
   "file_extension": ".py",
   "mimetype": "text/x-python",
   "name": "python",
   "nbconvert_exporter": "python",
   "pygments_lexer": "ipython3",
   "version": "3.10.1"
  }
 },
 "nbformat": 4,
 "nbformat_minor": 5
}
